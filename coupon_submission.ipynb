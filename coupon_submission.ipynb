{
 "cells": [
  {
   "cell_type": "markdown",
   "metadata": {
    "id": "WLOppi_kNuG3"
   },
   "source": [
    "## Coupon Acceptance Prediction"
   ]
  },
  {
   "cell_type": "markdown",
   "metadata": {
    "id": "fHfi8gNxNuG6"
   },
   "source": [
    "### Imports"
   ]
  },
  {
   "cell_type": "code",
   "execution_count": 1,
   "metadata": {
    "id": "Q60rv_afNuG7"
   },
   "outputs": [],
   "source": [
    "# data analysis\n",
    "import numpy as np\n",
    "import pandas as pd\n",
    "import sklearn\n",
    "\n",
    "# visualization\n",
    "import seaborn as sns\n",
    "import matplotlib.pyplot as plt\n",
    "%matplotlib inline"
   ]
  },
  {
   "cell_type": "markdown",
   "metadata": {
    "id": "WD3SoNv1NuG9"
   },
   "source": [
    "### Read the Dataset"
   ]
  },
  {
   "cell_type": "code",
   "execution_count": 51,
   "metadata": {
    "id": "J6xmXgu5NuG9"
   },
   "outputs": [],
   "source": [
    "train_df = pd.read_csv('train.csv')\n",
    "test_df = pd.read_csv('test.csv')"
   ]
  },
  {
   "cell_type": "code",
   "execution_count": 52,
   "metadata": {
    "id": "TDALMU_lNuG-",
    "outputId": "72ba0d76-785c-400d-d239-3db7caa9308e"
   },
   "outputs": [
    {
     "data": {
      "text/html": [
       "<div>\n",
       "<style scoped>\n",
       "    .dataframe tbody tr th:only-of-type {\n",
       "        vertical-align: middle;\n",
       "    }\n",
       "\n",
       "    .dataframe tbody tr th {\n",
       "        vertical-align: top;\n",
       "    }\n",
       "\n",
       "    .dataframe thead th {\n",
       "        text-align: right;\n",
       "    }\n",
       "</style>\n",
       "<table border=\"1\" class=\"dataframe\">\n",
       "  <thead>\n",
       "    <tr style=\"text-align: right;\">\n",
       "      <th></th>\n",
       "      <th>id</th>\n",
       "      <th>Decision</th>\n",
       "      <th>Driving_to</th>\n",
       "      <th>Passanger</th>\n",
       "      <th>Weather</th>\n",
       "      <th>Temperature</th>\n",
       "      <th>Time</th>\n",
       "      <th>Coupon</th>\n",
       "      <th>Coupon_validity</th>\n",
       "      <th>Gender</th>\n",
       "      <th>...</th>\n",
       "      <th>Education</th>\n",
       "      <th>Occupation</th>\n",
       "      <th>Income</th>\n",
       "      <th>Bar</th>\n",
       "      <th>Coffeehouse</th>\n",
       "      <th>Carryaway</th>\n",
       "      <th>Restaurantlessthan20</th>\n",
       "      <th>Restaurant20to50</th>\n",
       "      <th>Direction_same</th>\n",
       "      <th>Distance</th>\n",
       "    </tr>\n",
       "  </thead>\n",
       "  <tbody>\n",
       "    <tr>\n",
       "      <th>0</th>\n",
       "      <td>1</td>\n",
       "      <td>1</td>\n",
       "      <td>No Urgent Place</td>\n",
       "      <td>Partner</td>\n",
       "      <td>Sunny</td>\n",
       "      <td>80</td>\n",
       "      <td>6PM</td>\n",
       "      <td>Bar</td>\n",
       "      <td>1d</td>\n",
       "      <td>Male</td>\n",
       "      <td>...</td>\n",
       "      <td>Some college - no degree</td>\n",
       "      <td>Construction &amp; Extraction</td>\n",
       "      <td>$100000 or More</td>\n",
       "      <td>2.0</td>\n",
       "      <td>0.0</td>\n",
       "      <td>3.0</td>\n",
       "      <td>2.0</td>\n",
       "      <td>2.0</td>\n",
       "      <td>0</td>\n",
       "      <td>2</td>\n",
       "    </tr>\n",
       "    <tr>\n",
       "      <th>1</th>\n",
       "      <td>2</td>\n",
       "      <td>0</td>\n",
       "      <td>Work</td>\n",
       "      <td>Alone</td>\n",
       "      <td>Sunny</td>\n",
       "      <td>80</td>\n",
       "      <td>7AM</td>\n",
       "      <td>Restaurant(20-50)</td>\n",
       "      <td>1d</td>\n",
       "      <td>Female</td>\n",
       "      <td>...</td>\n",
       "      <td>Some college - no degree</td>\n",
       "      <td>Unemployed</td>\n",
       "      <td>$62500 - $74999</td>\n",
       "      <td>0.0</td>\n",
       "      <td>1.0</td>\n",
       "      <td>4.0</td>\n",
       "      <td>3.0</td>\n",
       "      <td>0.0</td>\n",
       "      <td>0</td>\n",
       "      <td>2</td>\n",
       "    </tr>\n",
       "    <tr>\n",
       "      <th>2</th>\n",
       "      <td>3</td>\n",
       "      <td>1</td>\n",
       "      <td>No Urgent Place</td>\n",
       "      <td>Partner</td>\n",
       "      <td>Sunny</td>\n",
       "      <td>80</td>\n",
       "      <td>6PM</td>\n",
       "      <td>Restaurant(&lt;20)</td>\n",
       "      <td>1d</td>\n",
       "      <td>Male</td>\n",
       "      <td>...</td>\n",
       "      <td>Associates degree</td>\n",
       "      <td>Unemployed</td>\n",
       "      <td>$37500 - $49999</td>\n",
       "      <td>1.0</td>\n",
       "      <td>1.0</td>\n",
       "      <td>1.0</td>\n",
       "      <td>3.0</td>\n",
       "      <td>1.0</td>\n",
       "      <td>0</td>\n",
       "      <td>1</td>\n",
       "    </tr>\n",
       "    <tr>\n",
       "      <th>3</th>\n",
       "      <td>4</td>\n",
       "      <td>1</td>\n",
       "      <td>Work</td>\n",
       "      <td>Alone</td>\n",
       "      <td>Sunny</td>\n",
       "      <td>55</td>\n",
       "      <td>7AM</td>\n",
       "      <td>Restaurant(&lt;20)</td>\n",
       "      <td>1d</td>\n",
       "      <td>Male</td>\n",
       "      <td>...</td>\n",
       "      <td>Some college - no degree</td>\n",
       "      <td>Construction &amp; Extraction</td>\n",
       "      <td>$100000 or More</td>\n",
       "      <td>2.0</td>\n",
       "      <td>0.0</td>\n",
       "      <td>3.0</td>\n",
       "      <td>2.0</td>\n",
       "      <td>2.0</td>\n",
       "      <td>0</td>\n",
       "      <td>1</td>\n",
       "    </tr>\n",
       "    <tr>\n",
       "      <th>4</th>\n",
       "      <td>5</td>\n",
       "      <td>1</td>\n",
       "      <td>Home</td>\n",
       "      <td>Alone</td>\n",
       "      <td>Sunny</td>\n",
       "      <td>30</td>\n",
       "      <td>6PM</td>\n",
       "      <td>Carry out &amp; Take away</td>\n",
       "      <td>2h</td>\n",
       "      <td>Male</td>\n",
       "      <td>...</td>\n",
       "      <td>Some college - no degree</td>\n",
       "      <td>Arts Design Entertainment Sports &amp; Media</td>\n",
       "      <td>$12500 - $24999</td>\n",
       "      <td>0.0</td>\n",
       "      <td>0.0</td>\n",
       "      <td>2.0</td>\n",
       "      <td>2.0</td>\n",
       "      <td>0.0</td>\n",
       "      <td>1</td>\n",
       "      <td>2</td>\n",
       "    </tr>\n",
       "  </tbody>\n",
       "</table>\n",
       "<p>5 rows × 23 columns</p>\n",
       "</div>"
      ],
      "text/plain": [
       "   id  Decision       Driving_to Passanger Weather  Temperature Time  \\\n",
       "0   1         1  No Urgent Place   Partner   Sunny           80  6PM   \n",
       "1   2         0             Work     Alone   Sunny           80  7AM   \n",
       "2   3         1  No Urgent Place   Partner   Sunny           80  6PM   \n",
       "3   4         1             Work     Alone   Sunny           55  7AM   \n",
       "4   5         1             Home     Alone   Sunny           30  6PM   \n",
       "\n",
       "                  Coupon Coupon_validity  Gender  ...  \\\n",
       "0                    Bar              1d    Male  ...   \n",
       "1      Restaurant(20-50)              1d  Female  ...   \n",
       "2        Restaurant(<20)              1d    Male  ...   \n",
       "3        Restaurant(<20)              1d    Male  ...   \n",
       "4  Carry out & Take away              2h    Male  ...   \n",
       "\n",
       "                  Education                                Occupation  \\\n",
       "0  Some college - no degree                 Construction & Extraction   \n",
       "1  Some college - no degree                                Unemployed   \n",
       "2         Associates degree                                Unemployed   \n",
       "3  Some college - no degree                 Construction & Extraction   \n",
       "4  Some college - no degree  Arts Design Entertainment Sports & Media   \n",
       "\n",
       "            Income  Bar Coffeehouse Carryaway  Restaurantlessthan20  \\\n",
       "0  $100000 or More  2.0         0.0       3.0                   2.0   \n",
       "1  $62500 - $74999  0.0         1.0       4.0                   3.0   \n",
       "2  $37500 - $49999  1.0         1.0       1.0                   3.0   \n",
       "3  $100000 or More  2.0         0.0       3.0                   2.0   \n",
       "4  $12500 - $24999  0.0         0.0       2.0                   2.0   \n",
       "\n",
       "   Restaurant20to50  Direction_same  Distance  \n",
       "0               2.0               0         2  \n",
       "1               0.0               0         2  \n",
       "2               1.0               0         1  \n",
       "3               2.0               0         1  \n",
       "4               0.0               1         2  \n",
       "\n",
       "[5 rows x 23 columns]"
      ]
     },
     "execution_count": 52,
     "metadata": {},
     "output_type": "execute_result"
    }
   ],
   "source": [
    "train_df.head()"
   ]
  },
  {
   "cell_type": "markdown",
   "metadata": {},
   "source": [
    "### EDA"
   ]
  },
  {
   "cell_type": "code",
   "execution_count": 4,
   "metadata": {
    "id": "IOAp8VgoNuHA",
    "outputId": "86e7f602-553c-47c7-dd95-052201145515"
   },
   "outputs": [
    {
     "name": "stdout",
     "output_type": "stream",
     "text": [
      "<class 'pandas.core.frame.DataFrame'>\n",
      "RangeIndex: 10184 entries, 0 to 10183\n",
      "Data columns (total 23 columns):\n",
      " #   Column                Non-Null Count  Dtype  \n",
      "---  ------                --------------  -----  \n",
      " 0   id                    10184 non-null  int64  \n",
      " 1   Decision              10184 non-null  int64  \n",
      " 2   Driving_to            10184 non-null  object \n",
      " 3   Passanger             10184 non-null  object \n",
      " 4   Weather               10184 non-null  object \n",
      " 5   Temperature           10184 non-null  int64  \n",
      " 6   Time                  10184 non-null  object \n",
      " 7   Coupon                10184 non-null  object \n",
      " 8   Coupon_validity       10184 non-null  object \n",
      " 9   Gender                10184 non-null  object \n",
      " 10  Age                   10184 non-null  object \n",
      " 11  Maritalstatus         10184 non-null  object \n",
      " 12  Children              10184 non-null  int64  \n",
      " 13  Education             10184 non-null  object \n",
      " 14  Occupation            10184 non-null  object \n",
      " 15  Income                10184 non-null  object \n",
      " 16  Bar                   10091 non-null  float64\n",
      " 17  Coffeehouse           10002 non-null  float64\n",
      " 18  Carryaway             10059 non-null  float64\n",
      " 19  Restaurantlessthan20  10079 non-null  float64\n",
      " 20  Restaurant20to50      10033 non-null  float64\n",
      " 21  Direction_same        10184 non-null  int64  \n",
      " 22  Distance              10184 non-null  int64  \n",
      "dtypes: float64(5), int64(6), object(12)\n",
      "memory usage: 1.8+ MB\n"
     ]
    }
   ],
   "source": [
    "train_df.info()\n",
    "# Variables containing null values: Bar, Coffeehouse, Carryaway, Restaurantlessthan20, Restaurant20to50\n",
    "# Categorical data: Driving_to, Passanger, Weather, Time, Coupon, Coupon_validity, Gender, Age, Maritalstatus,\n",
    "# Education, Occupation, Income"
   ]
  },
  {
   "cell_type": "code",
   "execution_count": 5,
   "metadata": {
    "id": "wqnOi3QrNuHA",
    "outputId": "25b7e12e-07be-463b-df24-f3f7896580a7"
   },
   "outputs": [
    {
     "data": {
      "text/html": [
       "<div>\n",
       "<style scoped>\n",
       "    .dataframe tbody tr th:only-of-type {\n",
       "        vertical-align: middle;\n",
       "    }\n",
       "\n",
       "    .dataframe tbody tr th {\n",
       "        vertical-align: top;\n",
       "    }\n",
       "\n",
       "    .dataframe thead th {\n",
       "        text-align: right;\n",
       "    }\n",
       "</style>\n",
       "<table border=\"1\" class=\"dataframe\">\n",
       "  <thead>\n",
       "    <tr style=\"text-align: right;\">\n",
       "      <th></th>\n",
       "      <th>id</th>\n",
       "      <th>Decision</th>\n",
       "      <th>Temperature</th>\n",
       "      <th>Children</th>\n",
       "      <th>Bar</th>\n",
       "      <th>Coffeehouse</th>\n",
       "      <th>Carryaway</th>\n",
       "      <th>Restaurantlessthan20</th>\n",
       "      <th>Restaurant20to50</th>\n",
       "      <th>Direction_same</th>\n",
       "      <th>Distance</th>\n",
       "    </tr>\n",
       "  </thead>\n",
       "  <tbody>\n",
       "    <tr>\n",
       "      <th>count</th>\n",
       "      <td>10184.000000</td>\n",
       "      <td>10184.000000</td>\n",
       "      <td>10184.000000</td>\n",
       "      <td>10184.000000</td>\n",
       "      <td>10091.000000</td>\n",
       "      <td>10002.000000</td>\n",
       "      <td>10059.000000</td>\n",
       "      <td>10079.000000</td>\n",
       "      <td>10033.000000</td>\n",
       "      <td>10184.000000</td>\n",
       "      <td>10184.000000</td>\n",
       "    </tr>\n",
       "    <tr>\n",
       "      <th>mean</th>\n",
       "      <td>5092.500000</td>\n",
       "      <td>0.569914</td>\n",
       "      <td>63.361155</td>\n",
       "      <td>0.414277</td>\n",
       "      <td>1.038846</td>\n",
       "      <td>1.574285</td>\n",
       "      <td>2.416741</td>\n",
       "      <td>2.283064</td>\n",
       "      <td>1.269909</td>\n",
       "      <td>0.211115</td>\n",
       "      <td>1.684309</td>\n",
       "    </tr>\n",
       "    <tr>\n",
       "      <th>std</th>\n",
       "      <td>2940.011905</td>\n",
       "      <td>0.495112</td>\n",
       "      <td>19.137079</td>\n",
       "      <td>0.492621</td>\n",
       "      <td>1.095480</td>\n",
       "      <td>1.238135</td>\n",
       "      <td>0.929992</td>\n",
       "      <td>0.919968</td>\n",
       "      <td>0.882393</td>\n",
       "      <td>0.408120</td>\n",
       "      <td>0.675322</td>\n",
       "    </tr>\n",
       "    <tr>\n",
       "      <th>min</th>\n",
       "      <td>1.000000</td>\n",
       "      <td>0.000000</td>\n",
       "      <td>30.000000</td>\n",
       "      <td>0.000000</td>\n",
       "      <td>0.000000</td>\n",
       "      <td>0.000000</td>\n",
       "      <td>0.000000</td>\n",
       "      <td>0.000000</td>\n",
       "      <td>0.000000</td>\n",
       "      <td>0.000000</td>\n",
       "      <td>1.000000</td>\n",
       "    </tr>\n",
       "    <tr>\n",
       "      <th>25%</th>\n",
       "      <td>2546.750000</td>\n",
       "      <td>0.000000</td>\n",
       "      <td>55.000000</td>\n",
       "      <td>0.000000</td>\n",
       "      <td>0.000000</td>\n",
       "      <td>1.000000</td>\n",
       "      <td>2.000000</td>\n",
       "      <td>2.000000</td>\n",
       "      <td>1.000000</td>\n",
       "      <td>0.000000</td>\n",
       "      <td>1.000000</td>\n",
       "    </tr>\n",
       "    <tr>\n",
       "      <th>50%</th>\n",
       "      <td>5092.500000</td>\n",
       "      <td>1.000000</td>\n",
       "      <td>80.000000</td>\n",
       "      <td>0.000000</td>\n",
       "      <td>1.000000</td>\n",
       "      <td>1.000000</td>\n",
       "      <td>2.000000</td>\n",
       "      <td>2.000000</td>\n",
       "      <td>1.000000</td>\n",
       "      <td>0.000000</td>\n",
       "      <td>2.000000</td>\n",
       "    </tr>\n",
       "    <tr>\n",
       "      <th>75%</th>\n",
       "      <td>7638.250000</td>\n",
       "      <td>1.000000</td>\n",
       "      <td>80.000000</td>\n",
       "      <td>1.000000</td>\n",
       "      <td>2.000000</td>\n",
       "      <td>2.000000</td>\n",
       "      <td>3.000000</td>\n",
       "      <td>3.000000</td>\n",
       "      <td>2.000000</td>\n",
       "      <td>0.000000</td>\n",
       "      <td>2.000000</td>\n",
       "    </tr>\n",
       "    <tr>\n",
       "      <th>max</th>\n",
       "      <td>10184.000000</td>\n",
       "      <td>1.000000</td>\n",
       "      <td>80.000000</td>\n",
       "      <td>1.000000</td>\n",
       "      <td>4.000000</td>\n",
       "      <td>4.000000</td>\n",
       "      <td>4.000000</td>\n",
       "      <td>4.000000</td>\n",
       "      <td>4.000000</td>\n",
       "      <td>1.000000</td>\n",
       "      <td>3.000000</td>\n",
       "    </tr>\n",
       "  </tbody>\n",
       "</table>\n",
       "</div>"
      ],
      "text/plain": [
       "                 id      Decision   Temperature      Children           Bar  \\\n",
       "count  10184.000000  10184.000000  10184.000000  10184.000000  10091.000000   \n",
       "mean    5092.500000      0.569914     63.361155      0.414277      1.038846   \n",
       "std     2940.011905      0.495112     19.137079      0.492621      1.095480   \n",
       "min        1.000000      0.000000     30.000000      0.000000      0.000000   \n",
       "25%     2546.750000      0.000000     55.000000      0.000000      0.000000   \n",
       "50%     5092.500000      1.000000     80.000000      0.000000      1.000000   \n",
       "75%     7638.250000      1.000000     80.000000      1.000000      2.000000   \n",
       "max    10184.000000      1.000000     80.000000      1.000000      4.000000   \n",
       "\n",
       "        Coffeehouse     Carryaway  Restaurantlessthan20  Restaurant20to50  \\\n",
       "count  10002.000000  10059.000000          10079.000000      10033.000000   \n",
       "mean       1.574285      2.416741              2.283064          1.269909   \n",
       "std        1.238135      0.929992              0.919968          0.882393   \n",
       "min        0.000000      0.000000              0.000000          0.000000   \n",
       "25%        1.000000      2.000000              2.000000          1.000000   \n",
       "50%        1.000000      2.000000              2.000000          1.000000   \n",
       "75%        2.000000      3.000000              3.000000          2.000000   \n",
       "max        4.000000      4.000000              4.000000          4.000000   \n",
       "\n",
       "       Direction_same      Distance  \n",
       "count    10184.000000  10184.000000  \n",
       "mean         0.211115      1.684309  \n",
       "std          0.408120      0.675322  \n",
       "min          0.000000      1.000000  \n",
       "25%          0.000000      1.000000  \n",
       "50%          0.000000      2.000000  \n",
       "75%          0.000000      2.000000  \n",
       "max          1.000000      3.000000  "
      ]
     },
     "execution_count": 5,
     "metadata": {},
     "output_type": "execute_result"
    }
   ],
   "source": [
    "train_df.describe()"
   ]
  },
  {
   "cell_type": "code",
   "execution_count": 6,
   "metadata": {
    "id": "Wo6NM1V-NuHB",
    "outputId": "3367231c-39ac-48af-b1a1-85e41d1e48da"
   },
   "outputs": [
    {
     "data": {
      "text/html": [
       "<div>\n",
       "<style scoped>\n",
       "    .dataframe tbody tr th:only-of-type {\n",
       "        vertical-align: middle;\n",
       "    }\n",
       "\n",
       "    .dataframe tbody tr th {\n",
       "        vertical-align: top;\n",
       "    }\n",
       "\n",
       "    .dataframe thead th {\n",
       "        text-align: right;\n",
       "    }\n",
       "</style>\n",
       "<table border=\"1\" class=\"dataframe\">\n",
       "  <thead>\n",
       "    <tr style=\"text-align: right;\">\n",
       "      <th></th>\n",
       "      <th>Driving_to</th>\n",
       "      <th>Passanger</th>\n",
       "      <th>Weather</th>\n",
       "      <th>Time</th>\n",
       "      <th>Coupon</th>\n",
       "      <th>Coupon_validity</th>\n",
       "      <th>Gender</th>\n",
       "      <th>Age</th>\n",
       "      <th>Maritalstatus</th>\n",
       "      <th>Education</th>\n",
       "      <th>Occupation</th>\n",
       "      <th>Income</th>\n",
       "    </tr>\n",
       "  </thead>\n",
       "  <tbody>\n",
       "    <tr>\n",
       "      <th>count</th>\n",
       "      <td>10184</td>\n",
       "      <td>10184</td>\n",
       "      <td>10184</td>\n",
       "      <td>10184</td>\n",
       "      <td>10184</td>\n",
       "      <td>10184</td>\n",
       "      <td>10184</td>\n",
       "      <td>10184</td>\n",
       "      <td>10184</td>\n",
       "      <td>10184</td>\n",
       "      <td>10184</td>\n",
       "      <td>10184</td>\n",
       "    </tr>\n",
       "    <tr>\n",
       "      <th>unique</th>\n",
       "      <td>3</td>\n",
       "      <td>4</td>\n",
       "      <td>3</td>\n",
       "      <td>5</td>\n",
       "      <td>5</td>\n",
       "      <td>2</td>\n",
       "      <td>2</td>\n",
       "      <td>8</td>\n",
       "      <td>5</td>\n",
       "      <td>6</td>\n",
       "      <td>25</td>\n",
       "      <td>9</td>\n",
       "    </tr>\n",
       "    <tr>\n",
       "      <th>top</th>\n",
       "      <td>No Urgent Place</td>\n",
       "      <td>Alone</td>\n",
       "      <td>Sunny</td>\n",
       "      <td>6PM</td>\n",
       "      <td>Coffee House</td>\n",
       "      <td>1d</td>\n",
       "      <td>Female</td>\n",
       "      <td>21</td>\n",
       "      <td>Married partner</td>\n",
       "      <td>Some college - no degree</td>\n",
       "      <td>Unemployed</td>\n",
       "      <td>$25000 - $37499</td>\n",
       "    </tr>\n",
       "    <tr>\n",
       "      <th>freq</th>\n",
       "      <td>5085</td>\n",
       "      <td>5834</td>\n",
       "      <td>8071</td>\n",
       "      <td>2625</td>\n",
       "      <td>3220</td>\n",
       "      <td>5659</td>\n",
       "      <td>5200</td>\n",
       "      <td>2136</td>\n",
       "      <td>4130</td>\n",
       "      <td>3509</td>\n",
       "      <td>1482</td>\n",
       "      <td>1603</td>\n",
       "    </tr>\n",
       "  </tbody>\n",
       "</table>\n",
       "</div>"
      ],
      "text/plain": [
       "             Driving_to Passanger Weather   Time        Coupon  \\\n",
       "count             10184     10184   10184  10184         10184   \n",
       "unique                3         4       3      5             5   \n",
       "top     No Urgent Place     Alone   Sunny    6PM  Coffee House   \n",
       "freq               5085      5834    8071   2625          3220   \n",
       "\n",
       "       Coupon_validity  Gender    Age    Maritalstatus  \\\n",
       "count            10184   10184  10184            10184   \n",
       "unique               2       2      8                5   \n",
       "top                 1d  Female     21  Married partner   \n",
       "freq              5659    5200   2136             4130   \n",
       "\n",
       "                       Education  Occupation           Income  \n",
       "count                      10184       10184            10184  \n",
       "unique                         6          25                9  \n",
       "top     Some college - no degree  Unemployed  $25000 - $37499  \n",
       "freq                        3509        1482             1603  "
      ]
     },
     "execution_count": 6,
     "metadata": {},
     "output_type": "execute_result"
    }
   ],
   "source": [
    "train_df.describe(include=['O'])"
   ]
  },
  {
   "cell_type": "markdown",
   "metadata": {},
   "source": [
    "####  Target Variables"
   ]
  },
  {
   "cell_type": "code",
   "execution_count": 59,
   "metadata": {},
   "outputs": [
    {
     "data": {
      "text/plain": [
       "Decision\n",
       "0    4380\n",
       "1    5804\n",
       "Name: id, dtype: int64"
      ]
     },
     "execution_count": 59,
     "metadata": {},
     "output_type": "execute_result"
    }
   ],
   "source": [
    "train_df.groupby('Decision')['id'].count()"
   ]
  },
  {
   "cell_type": "markdown",
   "metadata": {},
   "source": [
    "#### Feature Variables"
   ]
  },
  {
   "cell_type": "code",
   "execution_count": 70,
   "metadata": {},
   "outputs": [
    {
     "name": "stdout",
     "output_type": "stream",
     "text": [
      "Driving_to\n",
      "Home               2595\n",
      "No Urgent Place    5085\n",
      "Work               2504\n",
      "Name: id, dtype: int64\n",
      "        Driving_to  Decision\n",
      "1  No Urgent Place  0.635988\n",
      "2             Work  0.505192\n",
      "0             Home  0.502890\n",
      "\n",
      "\n",
      "Passanger\n",
      "Alone        5834\n",
      "Friend(s)    2678\n",
      "Kid(s)        802\n",
      "Partner       870\n",
      "Name: id, dtype: int64\n",
      "   Passanger  Decision\n",
      "1  Friend(s)  0.677745\n",
      "3    Partner  0.591954\n",
      "0      Alone  0.525540\n",
      "2     Kid(s)  0.508728\n",
      "\n",
      "\n",
      "Weather\n",
      "Rainy     988\n",
      "Snowy    1125\n",
      "Sunny    8071\n",
      "Name: id, dtype: int64\n",
      "  Weather  Decision\n",
      "2   Sunny  0.599678\n",
      "0   Rainy  0.461538\n",
      "1   Snowy  0.451556\n",
      "\n",
      "\n",
      "Temperature\n",
      "30    1850\n",
      "55    3078\n",
      "80    5256\n",
      "Name: id, dtype: int64\n",
      "   Temperature  Decision\n",
      "2           80  0.605023\n",
      "1           55  0.538661\n",
      "0           30  0.522162\n",
      "\n",
      "\n",
      "Time\n",
      "10AM    1851\n",
      "10PM    1609\n",
      "2PM     1595\n",
      "6PM     2625\n",
      "7AM     2504\n",
      "Name: id, dtype: int64\n",
      "   Time  Decision\n",
      "2   2PM  0.672727\n",
      "0  10AM  0.601297\n",
      "3   6PM  0.588190\n",
      "4   7AM  0.505192\n",
      "1  10PM  0.502797\n",
      "\n",
      "\n",
      "Coupon\n",
      "Bar                      1628\n",
      "Carry out & Take away    1897\n",
      "Coffee House             3220\n",
      "Restaurant(20-50)        1198\n",
      "Restaurant(<20)          2241\n",
      "Name: id, dtype: int64\n",
      "                  Coupon  Decision\n",
      "1  Carry out & Take away  0.738007\n",
      "4        Restaurant(<20)  0.705042\n",
      "2           Coffee House  0.506832\n",
      "3      Restaurant(20-50)  0.445743\n",
      "0                    Bar  0.404177\n",
      "\n",
      "\n",
      "Coupon_validity\n",
      "1d    5659\n",
      "2h    4525\n",
      "Name: id, dtype: int64\n",
      "  Coupon_validity  Decision\n",
      "0              1d  0.625729\n",
      "1              2h  0.500110\n",
      "\n",
      "\n",
      "Gender\n",
      "Female    5200\n",
      "Male      4984\n",
      "Name: id, dtype: int64\n",
      "   Gender  Decision\n",
      "1    Male  0.590891\n",
      "0  Female  0.549808\n",
      "\n",
      "\n",
      "Age\n",
      "21         2136\n",
      "26         2014\n",
      "31         1609\n",
      "36         1104\n",
      "41          865\n",
      "46          563\n",
      "50plus     1451\n",
      "below21     442\n",
      "Name: id, dtype: int64\n",
      "       Age  Decision\n",
      "7  below21  0.628959\n",
      "1       26  0.599801\n",
      "0       21  0.599719\n",
      "5       46  0.580817\n",
      "4       41  0.565318\n",
      "2       31  0.549410\n",
      "3       36  0.545290\n",
      "6   50plus  0.506547\n",
      "\n",
      "\n",
      "Maritalstatus\n",
      "Divorced              420\n",
      "Married partner      4130\n",
      "Single               3794\n",
      "Unmarried partner    1736\n",
      "Widowed               104\n",
      "Name: id, dtype: int64\n",
      "       Maritalstatus  Decision\n",
      "2             Single  0.603321\n",
      "3  Unmarried partner  0.569124\n",
      "1    Married partner  0.546731\n",
      "0           Divorced  0.528571\n",
      "4            Widowed  0.451923\n",
      "\n",
      "\n",
      "Children\n",
      "0    5965\n",
      "1    4219\n",
      "Name: id, dtype: int64\n",
      "   Children  Decision\n",
      "0         0  0.591282\n",
      "1         1  0.539701\n",
      "\n",
      "\n",
      "Education\n",
      "Associates degree                          934\n",
      "Bachelors degree                          3465\n",
      "Graduate degree (Masters or Doctorate)    1491\n",
      "High School Graduate                       715\n",
      "Some High School                            70\n",
      "Some college - no degree                  3509\n",
      "Name: id, dtype: int64\n",
      "                                Education  Decision\n",
      "4                        Some High School  0.714286\n",
      "3                    High School Graduate  0.604196\n",
      "5                Some college - no degree  0.597036\n",
      "1                        Bachelors degree  0.557864\n",
      "0                       Associates degree  0.555675\n",
      "2  Graduate degree (Masters or Doctorate)  0.519785\n",
      "\n",
      "\n",
      "Occupation\n",
      "Architecture & Engineering                    141\n",
      "Arts Design Entertainment Sports & Media      516\n",
      "Building & Grounds Cleaning & Maintenance      39\n",
      "Business & Financial                          436\n",
      "Community & Social Services                   193\n",
      "Computer & Mathematical                      1148\n",
      "Construction & Extraction                     115\n",
      "Education&Training&Library                    770\n",
      "Farming Fishing & Forestry                     34\n",
      "Food Preparation & Serving Related            242\n",
      "Healthcare Practitioners & Technical          202\n",
      "Healthcare Support                            195\n",
      "Installation Maintenance & Repair             110\n",
      "Legal                                         169\n",
      "Life Physical Social Science                  133\n",
      "Management                                    646\n",
      "Office & Administrative Support               514\n",
      "Personal Care & Service                       145\n",
      "Production Occupations                         87\n",
      "Protective Service                            136\n",
      "Retired                                       408\n",
      "Sales & Related                               879\n",
      "Student                                      1272\n",
      "Transportation & Material Moving              172\n",
      "Unemployed                                   1482\n",
      "Name: id, dtype: int64\n",
      "                                   Occupation  Decision\n",
      "6                   Construction & Extraction  0.730435\n",
      "11                         Healthcare Support  0.676923\n",
      "10       Healthcare Practitioners & Technical  0.673267\n",
      "19                         Protective Service  0.647059\n",
      "0                  Architecture & Engineering  0.624113\n",
      "18                     Production Occupations  0.620690\n",
      "23           Transportation & Material Moving  0.610465\n",
      "22                                    Student  0.610063\n",
      "16            Office & Administrative Support  0.607004\n",
      "15                                 Management  0.589783\n",
      "2   Building & Grounds Cleaning & Maintenance  0.589744\n",
      "14               Life Physical Social Science  0.578947\n",
      "9          Food Preparation & Serving Related  0.570248\n",
      "21                            Sales & Related  0.569966\n",
      "5                     Computer & Mathematical  0.567944\n",
      "12          Installation Maintenance & Repair  0.563636\n",
      "8                  Farming Fishing & Forestry  0.558824\n",
      "3                        Business & Financial  0.555046\n",
      "24                                 Unemployed  0.551957\n",
      "17                    Personal Care & Service  0.551724\n",
      "1    Arts Design Entertainment Sports & Media  0.525194\n",
      "7                  Education&Training&Library  0.524675\n",
      "4                 Community & Social Services  0.497409\n",
      "13                                      Legal  0.461538\n",
      "20                                    Retired  0.458333\n",
      "\n",
      "\n",
      "Income\n",
      "$100000 or More     1401\n",
      "$12500 - $24999     1503\n",
      "$25000 - $37499     1603\n",
      "$37500 - $49999     1406\n",
      "$50000 - $62499     1349\n",
      "$62500 - $74999      678\n",
      "$75000 - $87499      692\n",
      "$87500 - $99999      719\n",
      "Less than $12500     833\n",
      "Name: id, dtype: int64\n",
      "             Income  Decision\n",
      "2   $25000 - $37499  0.598253\n",
      "4   $50000 - $62499  0.595997\n",
      "8  Less than $12500  0.588235\n",
      "1   $12500 - $24999  0.577512\n",
      "0   $100000 or More  0.571734\n",
      "3   $37500 - $49999  0.567568\n",
      "5   $62500 - $74999  0.541298\n",
      "7   $87500 - $99999  0.531293\n",
      "6   $75000 - $87499  0.484104\n",
      "\n",
      "\n",
      "Bar\n",
      "0.0    4254\n",
      "1.0    2802\n",
      "2.0    1983\n",
      "3.0     865\n",
      "4.0     280\n",
      "Name: id, dtype: int64\n",
      "   Bar  Decision\n",
      "3  3.0  0.641618\n",
      "2  2.0  0.622794\n",
      "4  4.0  0.585714\n",
      "1  1.0  0.568879\n",
      "0  0.0  0.530324\n",
      "\n",
      "\n",
      "Coffeehouse\n",
      "0.0    2545\n",
      "1.0    2729\n",
      "2.0    2596\n",
      "3.0    1431\n",
      "4.0     883\n",
      "Name: id, dtype: int64\n",
      "   Coffeehouse  Decision\n",
      "2          2.0  0.653698\n",
      "3          3.0  0.635220\n",
      "4          4.0  0.578709\n",
      "1          1.0  0.544155\n",
      "0          0.0  0.472299\n",
      "\n",
      "\n",
      "Carryaway\n",
      "0.0     238\n",
      "1.0    1521\n",
      "2.0    3753\n",
      "3.0    3405\n",
      "4.0    1267\n",
      "Name: id, dtype: int64\n",
      "   Carryaway  Decision\n",
      "0        0.0  0.605042\n",
      "2        2.0  0.583800\n",
      "3        3.0  0.582379\n",
      "4        4.0  0.569850\n",
      "1        1.0  0.502301\n",
      "\n",
      "\n",
      "Restaurantlessthan20\n",
      "0.0     286\n",
      "1.0    1694\n",
      "2.0    4300\n",
      "3.0    2899\n",
      "4.0    1005\n",
      "Name: id, dtype: int64\n",
      "   Restaurantlessthan20  Decision\n",
      "0                   0.0  0.611888\n",
      "4                   4.0  0.596020\n",
      "3                   3.0  0.588824\n",
      "2                   2.0  0.564419\n",
      "1                   1.0  0.528926\n",
      "\n",
      "\n",
      "Restaurant20to50\n",
      "0.0    1871\n",
      "1.0    4879\n",
      "2.0    2643\n",
      "3.0     588\n",
      "4.0     203\n",
      "Name: id, dtype: int64\n",
      "   Restaurant20to50  Decision\n",
      "3               3.0  0.659864\n",
      "4               4.0  0.655172\n",
      "2               2.0  0.600832\n",
      "1               1.0  0.557696\n",
      "0               0.0  0.520577\n",
      "\n",
      "\n",
      "Direction_same\n",
      "0    8034\n",
      "1    2150\n",
      "Name: id, dtype: int64\n",
      "   Direction_same  Decision\n",
      "1               1  0.586047\n",
      "0               0  0.565596\n",
      "\n",
      "\n",
      "Distance\n",
      "1    4437\n",
      "2    4525\n",
      "3    1222\n",
      "Name: id, dtype: int64\n",
      "   Distance  Decision\n",
      "0         1  0.617534\n",
      "1         2  0.563757\n",
      "2         3  0.419804\n",
      "\n",
      "\n"
     ]
    }
   ],
   "source": [
    "for feature in list(train_df.drop(['Decision','id'], axis=1).columns):\n",
    "    print(train_df.groupby(feature)['id'].count())\n",
    "    print(train_df[[feature, 'Decision']].groupby([feature], as_index=False).mean().sort_values(by='Decision', ascending=False))\n",
    "    print(\"\\n\")"
   ]
  },
  {
   "cell_type": "markdown",
   "metadata": {
    "id": "2Sm8YWMDNuHB"
   },
   "source": [
    "### Data Preprocessing"
   ]
  },
  {
   "cell_type": "markdown",
   "metadata": {
    "id": "os5QZQk6NuHC"
   },
   "source": [
    "#### 1) Impute Missing Values"
   ]
  },
  {
   "cell_type": "code",
   "execution_count": 159,
   "metadata": {
    "id": "cJsWkLLnNuHC"
   },
   "outputs": [],
   "source": [
    "train_df = pd.read_csv('train.csv')\n",
    "test_df = pd.read_csv('test.csv')"
   ]
  },
  {
   "cell_type": "code",
   "execution_count": 160,
   "metadata": {
    "id": "BVQDI3F8NuHD"
   },
   "outputs": [],
   "source": [
    "for f in ['Bar', \n",
    "          'Coffeehouse', \n",
    "          'Carryaway', \n",
    "          'Restaurantlessthan20',\n",
    "          'Restaurant20to50']:\n",
    "    train_df.loc[train_df[f].isnull(), f] = 0.0\n",
    "    test_df.loc[test_df[f].isnull(), f] = 0.0"
   ]
  },
  {
   "cell_type": "markdown",
   "metadata": {
    "id": "GymtlMy-NuHF"
   },
   "source": [
    "#### 2) Encode Categorical Variables"
   ]
  },
  {
   "cell_type": "code",
   "execution_count": 161,
   "metadata": {
    "id": "UXmn_OsWNuHI"
   },
   "outputs": [],
   "source": [
    "# One-hot Encoding\n",
    "from sklearn.preprocessing import OneHotEncoder\n",
    "y_train = train_df.iloc[:,1].values\n",
    "X_train = train_df.iloc[:,2:].values\n",
    "X_test = test_df.iloc[:,1:].values\n",
    "encoder = OneHotEncoder(sparse=False)\n",
    "X_train = encoder.fit_transform(X_train)\n",
    "X_test = encoder.fit_transform(X_test)"
   ]
  },
  {
   "cell_type": "markdown",
   "metadata": {
    "id": "o6cXYvz9NuHL"
   },
   "source": [
    "### Training"
   ]
  },
  {
   "cell_type": "markdown",
   "metadata": {
    "id": "6XC1QuKYNuHL"
   },
   "source": [
    "#### 1) Logistic Regression"
   ]
  },
  {
   "cell_type": "code",
   "execution_count": 176,
   "metadata": {
    "id": "0L27UlNkNuHL",
    "outputId": "29fe1705-d0c5-47a2-c8a1-f8a0e05b3171"
   },
   "outputs": [
    {
     "name": "stdout",
     "output_type": "stream",
     "text": [
      "0.686 accuracy with a standard deviation of 0.008\n"
     ]
    }
   ],
   "source": [
    "# Training Logistic Regression on the Training set\n",
    "import warnings\n",
    "warnings.filterwarnings('ignore')\n",
    "from sklearn.linear_model import LogisticRegression\n",
    "classifier = LogisticRegression(random_state = 0)\n",
    "classifier.fit(X_train, y_train)\n",
    "\n",
    "# evaluate model\n",
    "from sklearn.model_selection import cross_val_score\n",
    "scores = cross_val_score(classifier, X_train, y_train, scoring='accuracy', cv=5)\n",
    "print(\"%0.3f accuracy with a standard deviation of %0.3f\" % (scores.mean(), scores.std()))"
   ]
  },
  {
   "cell_type": "markdown",
   "metadata": {
    "id": "slIOQBWsNuHL"
   },
   "source": [
    "#### 2) SVM"
   ]
  },
  {
   "cell_type": "code",
   "execution_count": 177,
   "metadata": {
    "id": "-6CrvZ1nNuHL",
    "outputId": "f6cdcd2a-8a6a-4764-9720-b2f53f860990"
   },
   "outputs": [
    {
     "name": "stdout",
     "output_type": "stream",
     "text": [
      "0.750 accuracy with a standard deviation of 0.009\n"
     ]
    }
   ],
   "source": [
    "# Training SVM on the Training set\n",
    "from sklearn.svm import SVC\n",
    "classifier = SVC(random_state = 0)\n",
    "classifier.fit(X_train, y_train)\n",
    "\n",
    "# evaluate model\n",
    "from sklearn.model_selection import cross_val_score\n",
    "scores = cross_val_score(classifier, X_train, y_train, scoring='accuracy', cv=5)\n",
    "print(\"%0.3f accuracy with a standard deviation of %0.3f\" % (scores.mean(), scores.std()))"
   ]
  },
  {
   "cell_type": "markdown",
   "metadata": {
    "id": "00IgQwFUNuHM"
   },
   "source": [
    "#### 3) Decision Tree"
   ]
  },
  {
   "cell_type": "code",
   "execution_count": 178,
   "metadata": {
    "id": "XKMUwu0BNuHM",
    "outputId": "26d859cb-1ad6-4380-c31e-d4d6ae22f993"
   },
   "outputs": [
    {
     "name": "stdout",
     "output_type": "stream",
     "text": [
      "0.680 accuracy with a standard deviation of 0.012\n"
     ]
    }
   ],
   "source": [
    "# Training the Decision Tree on the Training set\n",
    "from sklearn.tree import DecisionTreeClassifier\n",
    "classifier = DecisionTreeClassifier(random_state = 0)\n",
    "classifier.fit(X_train, y_train)\n",
    "\n",
    "# evaluate model\n",
    "from sklearn.model_selection import cross_val_score\n",
    "scores = cross_val_score(classifier, X_train, y_train, scoring='accuracy', cv=5)\n",
    "print(\"%0.3f accuracy with a standard deviation of %0.3f\" % (scores.mean(), scores.std()))"
   ]
  },
  {
   "cell_type": "markdown",
   "metadata": {
    "id": "E7h0DAh5NuHM"
   },
   "source": [
    "#### 4) Random Forest"
   ]
  },
  {
   "cell_type": "code",
   "execution_count": 180,
   "metadata": {
    "id": "mxjqhwJdNuHM",
    "outputId": "c236fd4b-f0c8-4cf5-c5cc-af39668c35d2"
   },
   "outputs": [
    {
     "name": "stdout",
     "output_type": "stream",
     "text": [
      "0.749 accuracy with a standard deviation of 0.010\n"
     ]
    }
   ],
   "source": [
    "# Training the Random Forest on the Training set\n",
    "from sklearn.ensemble import RandomForestClassifier\n",
    "classifier = RandomForestClassifier(random_state = 0)\n",
    "classifier.fit(X_train, y_train)\n",
    "\n",
    "# evaluate model\n",
    "from sklearn.model_selection import cross_val_score\n",
    "scores = cross_val_score(classifier, X_train, y_train, scoring='accuracy', cv=5)\n",
    "print(\"%0.3f accuracy with a standard deviation of %0.3f\" % (scores.mean(), scores.std()))"
   ]
  },
  {
   "cell_type": "markdown",
   "metadata": {
    "id": "yokjhfyuNuHM"
   },
   "source": [
    "#### 5) Adaboost"
   ]
  },
  {
   "cell_type": "code",
   "execution_count": 181,
   "metadata": {
    "id": "91XxPwlnNuHN",
    "outputId": "f650ae90-0a22-4884-dfa4-c040d5f19060"
   },
   "outputs": [
    {
     "name": "stdout",
     "output_type": "stream",
     "text": [
      "0.682 accuracy with a standard deviation of 0.005\n"
     ]
    }
   ],
   "source": [
    "# training the Adaboost on the Training set\n",
    "from sklearn.ensemble import AdaBoostClassifier\n",
    "classifier = AdaBoostClassifier(random_state = 0)\n",
    "classifier.fit(X_train, y_train)\n",
    "\n",
    "# evaluate model\n",
    "from sklearn.model_selection import cross_val_score\n",
    "scores = cross_val_score(classifier, X_train, y_train, scoring='accuracy', cv=5)\n",
    "print(\"%0.3f accuracy with a standard deviation of %0.3f\" % (scores.mean(), scores.std()))"
   ]
  },
  {
   "cell_type": "markdown",
   "metadata": {
    "id": "3Ixrr6WkNuHN"
   },
   "source": [
    "#### 6) Naive Bayes"
   ]
  },
  {
   "cell_type": "code",
   "execution_count": 182,
   "metadata": {
    "id": "yPXTVNHCNuHN",
    "outputId": "1b8cc7da-3934-479b-9885-a7e3a8b56cd6"
   },
   "outputs": [
    {
     "name": "stdout",
     "output_type": "stream",
     "text": [
      "0.627 accuracy with a standard deviation of 0.012\n"
     ]
    }
   ],
   "source": [
    "# Training the Naive Bayes model on the Training set\n",
    "from sklearn.naive_bayes import GaussianNB\n",
    "classifier = GaussianNB()\n",
    "classifier.fit(X_train, y_train)\n",
    "\n",
    "# evaluate model\n",
    "from sklearn.model_selection import cross_val_score\n",
    "scores = cross_val_score(classifier, X_train, y_train, scoring='accuracy', cv=5)\n",
    "print(\"%0.3f accuracy with a standard deviation of %0.3f\" % (scores.mean(), scores.std()))"
   ]
  },
  {
   "cell_type": "markdown",
   "metadata": {
    "id": "-S8FcScINuHO"
   },
   "source": [
    "#### 7) KNN"
   ]
  },
  {
   "cell_type": "code",
   "execution_count": 183,
   "metadata": {
    "id": "kDgw3DuXNuHO",
    "outputId": "04a1896b-bae9-4cb3-e2c3-9ced59a66b6e"
   },
   "outputs": [
    {
     "name": "stdout",
     "output_type": "stream",
     "text": [
      "0.662 accuracy with a standard deviation of 0.007\n"
     ]
    }
   ],
   "source": [
    "# Training the K-NN model on the Training set\n",
    "from sklearn.neighbors import KNeighborsClassifier\n",
    "classifier = KNeighborsClassifier()\n",
    "classifier.fit(X_train, y_train)\n",
    "\n",
    "# evaluate model\n",
    "from sklearn.model_selection import cross_val_score\n",
    "scores = cross_val_score(classifier, X_train, y_train, scoring='accuracy', cv=5)\n",
    "print(\"%0.3f accuracy with a standard deviation of %0.3f\" % (scores.mean(), scores.std()))"
   ]
  },
  {
   "cell_type": "markdown",
   "metadata": {
    "id": "sCctQduCNuHO"
   },
   "source": [
    "#### 8) XGboost"
   ]
  },
  {
   "cell_type": "code",
   "execution_count": 184,
   "metadata": {
    "colab": {
     "base_uri": "https://localhost:8080/"
    },
    "id": "nJmcEBuRNuHO",
    "outputId": "1e07cc1a-3189-4bbf-c976-a6e68bd6c7d3"
   },
   "outputs": [
    {
     "name": "stdout",
     "output_type": "stream",
     "text": [
      "0.755 accuracy with a standard deviation of 0.008\n"
     ]
    }
   ],
   "source": [
    "# Training the XGboost on the Training set\n",
    "from xgboost import XGBClassifier\n",
    "classifier = XGBClassifier(random_state = 0)\n",
    "classifier.fit(X_train, y_train)\n",
    "\n",
    "# evaluate model\n",
    "from sklearn.model_selection import cross_val_score\n",
    "scores = cross_val_score(classifier, X_train, y_train, scoring='accuracy', cv=5)\n",
    "print(\"%0.3f accuracy with a standard deviation of %0.3f\" % (scores.mean(), scores.std()))"
   ]
  },
  {
   "cell_type": "markdown",
   "metadata": {},
   "source": [
    "#### 9) Nerual Network"
   ]
  },
  {
   "cell_type": "code",
   "execution_count": 98,
   "metadata": {},
   "outputs": [],
   "source": [
    "import torch\n",
    "import torch.nn as nn\n",
    "import torch.nn.functional as F\n",
    "import torch.optim as optim\n",
    "\n",
    "class FeatureDataset(torch.utils.data.Dataset):\n",
    "\n",
    "    def __init__(self, x, y):\n",
    "\n",
    "      # Convert to torch tensor\n",
    "        self.x_train = torch.tensor(x, dtype=torch.float32)\n",
    "        self.y_train = torch.tensor(y, dtype=torch.float32)\n",
    "\n",
    "    def __len__(self):\n",
    "        return len(self.y_train)\n",
    "\n",
    "    def __getitem__(self, idx):\n",
    "        return self.x_train[idx], self.y_train[idx]\n",
    "\n",
    "class Net(nn.Module):\n",
    "    def __init__(self):\n",
    "        super(Net, self).__init__()\n",
    "        self.fc1 = nn.Linear(112, 32)\n",
    "        self.fc2 = nn.Linear(32, 4)\n",
    "        self.fc3 = nn.Linear(4, 1)\n",
    "        self.dp = nn.Dropout(p=0.2)\n",
    "        self.sigmoid = nn.Sigmoid()\n",
    "  \n",
    "    def forward(self, x):\n",
    "        x = self.fc1(x)\n",
    "        x = F.relu(x)\n",
    "        x = self.dp(x)\n",
    "        x = self.fc2(x)\n",
    "        x = F.relu(x)\n",
    "        x = self.dp(x)\n",
    "        x = self.fc3(x)\n",
    "        output = self.sigmoid(x)\n",
    "        return output\n",
    "    \n",
    "def train(net):\n",
    "    losses = []\n",
    "    net.train()\n",
    "\n",
    "    for epoch in range(200):\n",
    "        epoch_loss = 0\n",
    "        n = 0\n",
    "        for batch_idx, (data, target) in enumerate(train_loader):\n",
    "    \n",
    "            optimizer.zero_grad()\n",
    "            target = target.unsqueeze(1)\n",
    "            output = net(data)\n",
    "          \n",
    "            loss_fn = nn.BCELoss()\n",
    "            loss = loss_fn(output, target)\n",
    "            \n",
    "            loss.backward()\n",
    "            optimizer.step()\n",
    "            n += 1\n",
    "            epoch_loss += loss.item() \n",
    "  \n",
    "        losses.append(epoch_loss/n)\n",
    "                \n",
    "    return losses\n",
    "\n",
    "from sklearn.metrics import accuracy_score\n",
    "def get_accuracy(net, data_loader):\n",
    "    predictions = []\n",
    "    targets = []\n",
    "    net.eval()\n",
    "    with torch.no_grad():\n",
    "        for batch_idx, (data, target) in enumerate(data_loader):\n",
    "            prediction = 1 if net(data)>0.5 else 0       \n",
    "            predictions.append(prediction)\n",
    "            targets.append(target)\n",
    "            \n",
    "    return accuracy_score(targets, predictions)\n",
    "\n",
    "def make_prediction(net, data_loader):\n",
    "    predictions = []\n",
    "    net.eval()\n",
    "    with torch.no_grad():\n",
    "        for batch_idx, (data, target) in enumerate(data_loader):\n",
    "            prediction = 1 if net(data)>0.5 else 0       \n",
    "            predictions.append(prediction)\n",
    "            \n",
    "    return predictions"
   ]
  },
  {
   "cell_type": "code",
   "execution_count": 94,
   "metadata": {},
   "outputs": [],
   "source": [
    "# further divide X_train, y_train into train and test data \n",
    "from sklearn.model_selection import train_test_split\n",
    "X_train_nn, X_test_nn, y_train_nn, y_test_nn = train_test_split(X_train, y_train, test_size=0.1, stratify=y_train, random_state=42)"
   ]
  },
  {
   "cell_type": "code",
   "execution_count": 101,
   "metadata": {},
   "outputs": [
    {
     "data": {
      "text/plain": [
       "0.7477919528949951"
      ]
     },
     "execution_count": 101,
     "metadata": {},
     "output_type": "execute_result"
    }
   ],
   "source": [
    "# training and evaluation\n",
    "train_set = FeatureDataset(X_train_nn, y_train_nn)\n",
    "train_loader = torch.utils.data.DataLoader(train_set, batch_size=32, shuffle=True)\n",
    "test_set = FeatureDataset(X_test_nn, y_test_nn)\n",
    "test_loader = torch.utils.data.DataLoader(test_set, batch_size=1, shuffle=True)\n",
    "net = Net()\n",
    "optimizer = optim.SGD(net.parameters(), lr=.01, momentum=0.5) \n",
    "losses = train(net)\n",
    "get_accuracy(net,test_loader)"
   ]
  },
  {
   "cell_type": "code",
   "execution_count": 100,
   "metadata": {},
   "outputs": [
    {
     "data": {
      "text/plain": [
       "Text(0, 0.5, 'loss')"
      ]
     },
     "execution_count": 100,
     "metadata": {},
     "output_type": "execute_result"
    },
    {
     "data": {
      "image/png": "[encoded data removed]",
      "text/plain": [
       "<Figure size 432x288 with 1 Axes>"
      ]
     },
     "metadata": {
      "needs_background": "light"
     },
     "output_type": "display_data"
    }
   ],
   "source": [
    "# loss vs epoch\n",
    "epochs = [x for x in range(200)]\n",
    "plt.plot(epochs, losses)\n",
    "plt.xlabel('epoch')\n",
    "plt.ylabel('loss')"
   ]
  },
  {
   "cell_type": "markdown",
   "metadata": {
    "id": "2ltkBDgcNuHP"
   },
   "source": [
    "### Hyperparameter Tuning"
   ]
  },
  {
   "cell_type": "markdown",
   "metadata": {},
   "source": [
    "#### Step 1: Tuning n_estimators"
   ]
  },
  {
   "cell_type": "code",
   "execution_count": 122,
   "metadata": {},
   "outputs": [
    {
     "data": {
      "text/plain": [
       "({'mean_fit_time': array([41.20235701, 52.53358517, 57.18639846]),\n",
       "  'std_fit_time': array([0.04040351, 0.2816965 , 3.27713713]),\n",
       "  'mean_score_time': array([0.07996578, 0.10338149, 0.06996007]),\n",
       "  'std_score_time': array([0.00712948, 0.01236733, 0.00842643]),\n",
       "  'param_n_estimators': masked_array(data=[400, 500, 600],\n",
       "               mask=[False, False, False],\n",
       "         fill_value='?',\n",
       "              dtype=object),\n",
       "  'params': [{'n_estimators': 400},\n",
       "   {'n_estimators': 500},\n",
       "   {'n_estimators': 600}],\n",
       "  'split0_test_score': array([0.76779578, 0.77074129, 0.77417771]),\n",
       "  'split1_test_score': array([0.7520864 , 0.75405007, 0.75601375]),\n",
       "  'split2_test_score': array([0.7682867 , 0.76730486, 0.76779578]),\n",
       "  'split3_test_score': array([0.75601375, 0.7520864 , 0.75306824]),\n",
       "  'split4_test_score': array([0.77111984, 0.76768173, 0.77259332]),\n",
       "  'mean_test_score': array([0.76306049, 0.76237287, 0.76472976]),\n",
       "  'std_test_score': array([0.00754687, 0.00771517, 0.00863087]),\n",
       "  'rank_test_score': array([2, 3, 1], dtype=int32)},\n",
       " {'n_estimators': 600},\n",
       " 0.7647297587943285)"
      ]
     },
     "execution_count": 122,
     "metadata": {},
     "output_type": "execute_result"
    }
   ],
   "source": [
    "from sklearn.model_selection import GridSearchCV\n",
    "param_test1 = {\n",
    " 'n_estimators': [400,500,600]\n",
    "}\n",
    "gsearch1 = GridSearchCV(estimator = XGBClassifier(random_state = 0), \n",
    " param_grid = param_test1, scoring='accuracy', n_jobs=-1)\n",
    "gsearch1.fit(X_train,y_train)\n",
    "gsearch1.cv_results_, gsearch1.best_params_, gsearch1.best_score_"
   ]
  },
  {
   "cell_type": "markdown",
   "metadata": {},
   "source": [
    "#### step 2: Tuning max_depth and min_child_weight"
   ]
  },
  {
   "cell_type": "code",
   "execution_count": 132,
   "metadata": {},
   "outputs": [
    {
     "data": {
      "text/plain": [
       "({'mean_fit_time': array([41.54408016, 41.70828357, 42.0341104 , 49.81253552, 49.72209306,\n",
       "         50.51343665, 58.75630307, 57.75850043, 42.12788901]),\n",
       "  'std_fit_time': array([0.0790135 , 0.27772995, 0.07556961, 0.14911168, 0.29428272,\n",
       "         0.12645089, 0.24715431, 0.7484416 , 0.07853831]),\n",
       "  'mean_score_time': array([0.07325015, 0.07154126, 0.06561279, 0.10323839, 0.09631701,\n",
       "         0.090978  , 0.10604186, 0.10274715, 0.08397999]),\n",
       "  'std_score_time': array([0.00587927, 0.00771823, 0.00110816, 0.0165882 , 0.01153875,\n",
       "         0.00520367, 0.00871591, 0.0085868 , 0.0012635 ]),\n",
       "  'param_max_depth': masked_array(data=[5, 5, 5, 6, 6, 6, 7, 7, 7],\n",
       "               mask=[False, False, False, False, False, False, False, False,\n",
       "                     False],\n",
       "         fill_value='?',\n",
       "              dtype=object),\n",
       "  'param_min_child_weight': masked_array(data=[1, 2, 3, 1, 2, 3, 1, 2, 3],\n",
       "               mask=[False, False, False, False, False, False, False, False,\n",
       "                     False],\n",
       "         fill_value='?',\n",
       "              dtype=object),\n",
       "  'params': [{'max_depth': 5, 'min_child_weight': 1},\n",
       "   {'max_depth': 5, 'min_child_weight': 2},\n",
       "   {'max_depth': 5, 'min_child_weight': 3},\n",
       "   {'max_depth': 6, 'min_child_weight': 1},\n",
       "   {'max_depth': 6, 'min_child_weight': 2},\n",
       "   {'max_depth': 6, 'min_child_weight': 3},\n",
       "   {'max_depth': 7, 'min_child_weight': 1},\n",
       "   {'max_depth': 7, 'min_child_weight': 2},\n",
       "   {'max_depth': 7, 'min_child_weight': 3}],\n",
       "  'split0_test_score': array([0.77172312, 0.76534119, 0.77368679, 0.77417771, 0.77565047,\n",
       "         0.77221404, 0.77025037, 0.76926853, 0.76975945]),\n",
       "  'split1_test_score': array([0.75601375, 0.75110457, 0.74963181, 0.75601375, 0.74815906,\n",
       "         0.74570447, 0.75257732, 0.74963181, 0.7383407 ]),\n",
       "  'split2_test_score': array([0.75846834, 0.75503191, 0.75159548, 0.76779578, 0.74619539,\n",
       "         0.75945017, 0.76239568, 0.7628866 , 0.75552283]),\n",
       "  'split3_test_score': array([0.74275896, 0.75699558, 0.74079529, 0.75306824, 0.75454099,\n",
       "         0.74423171, 0.75012273, 0.74717722, 0.74766814]),\n",
       "  'split4_test_score': array([0.76915521, 0.75442043, 0.76424361, 0.77259332, 0.7608055 ,\n",
       "         0.76768173, 0.76915521, 0.76915521, 0.76424361]),\n",
       "  'mean_test_score': array([0.75962387, 0.75657874, 0.7559906 , 0.76472976, 0.75707028,\n",
       "         0.75785642, 0.76090026, 0.75962387, 0.75510695]),\n",
       "  'std_test_score': array([0.01035405, 0.00477434, 0.01159238, 0.00863087, 0.01061363,\n",
       "         0.01130062, 0.00828531, 0.00947915, 0.01126757]),\n",
       "  'rank_test_score': array([3, 7, 8, 1, 6, 5, 2, 3, 9], dtype=int32)},\n",
       " {'max_depth': 6, 'min_child_weight': 1},\n",
       " 0.7647297587943285)"
      ]
     },
     "execution_count": 132,
     "metadata": {},
     "output_type": "execute_result"
    }
   ],
   "source": [
    "param_test2 = {\n",
    " 'max_depth':[5,6,7],\n",
    " 'min_child_weight':[1,2,3]\n",
    "}\n",
    "gsearch2 = GridSearchCV(estimator = XGBClassifier(n_estimators=600, random_state = 0), \n",
    " param_grid = param_test2, scoring='accuracy',n_jobs=-1)\n",
    "gsearch2.fit(X_train,y_train)\n",
    "gsearch2.cv_results_, gsearch2.best_params_, gsearch2.best_score_"
   ]
  },
  {
   "cell_type": "markdown",
   "metadata": {},
   "source": [
    "#### step 3: Tuning gamma "
   ]
  },
  {
   "cell_type": "code",
   "execution_count": 133,
   "metadata": {},
   "outputs": [
    {
     "data": {
      "text/plain": [
       "({'mean_fit_time': array([49.33852296, 48.27497497, 46.73130345]),\n",
       "  'std_fit_time': array([0.09438687, 1.15590082, 0.12834186]),\n",
       "  'mean_score_time': array([0.10162477, 0.08629122, 0.04971318]),\n",
       "  'std_score_time': array([0.01943841, 0.01478908, 0.00714264]),\n",
       "  'param_gamma': masked_array(data=[0.0, 0.1, 0.2],\n",
       "               mask=[False, False, False],\n",
       "         fill_value='?',\n",
       "              dtype=object),\n",
       "  'params': [{'gamma': 0.0}, {'gamma': 0.1}, {'gamma': 0.2}],\n",
       "  'split0_test_score': array([0.77417771, 0.76877761, 0.76730486]),\n",
       "  'split1_test_score': array([0.75601375, 0.75895925, 0.74423171]),\n",
       "  'split2_test_score': array([0.76779578, 0.7574865 , 0.75699558]),\n",
       "  'split3_test_score': array([0.75306824, 0.74717722, 0.74619539]),\n",
       "  'split4_test_score': array([0.77259332, 0.76277014, 0.76424361]),\n",
       "  'mean_test_score': array([0.76472976, 0.75903415, 0.75579423]),\n",
       "  'std_test_score': array([0.00863087, 0.00709761, 0.00928611]),\n",
       "  'rank_test_score': array([1, 2, 3], dtype=int32)},\n",
       " {'gamma': 0.0},\n",
       " 0.7647297587943285)"
      ]
     },
     "execution_count": 133,
     "metadata": {},
     "output_type": "execute_result"
    }
   ],
   "source": [
    "param_test3 = {\n",
    " 'gamma':[i/10.0 for i in range(0,3)]\n",
    "}\n",
    "gsearch3 = GridSearchCV(estimator = XGBClassifier(n_estimators=600, random_state = 0), \n",
    " param_grid = param_test3, scoring='accuracy',n_jobs=-1)\n",
    "gsearch3.fit(X_train,y_train)\n",
    "gsearch3.cv_results_, gsearch3.best_params_, gsearch3.best_score_"
   ]
  },
  {
   "cell_type": "markdown",
   "metadata": {},
   "source": [
    "#### step 4: Tuning subsample and colsample_bytree"
   ]
  },
  {
   "cell_type": "code",
   "execution_count": 135,
   "metadata": {},
   "outputs": [
    {
     "data": {
      "text/plain": [
       "({'mean_fit_time': array([40.54449739, 40.59921751, 40.79017863, 46.43588619, 44.96782446,\n",
       "         42.84716344, 49.28474693, 47.90321846, 33.14898744]),\n",
       "  'std_fit_time': array([0.08637343, 0.96671309, 0.12034592, 0.42859945, 0.58799237,\n",
       "         0.06952818, 0.0619363 , 0.66832292, 0.17985345]),\n",
       "  'mean_score_time': array([0.08920302, 0.08667393, 0.08444576, 0.08485746, 0.08157573,\n",
       "         0.08248878, 0.0827774 , 0.08018966, 0.06371951]),\n",
       "  'std_score_time': array([0.00491904, 0.00176848, 0.00333433, 0.003752  , 0.00069034,\n",
       "         0.00100207, 0.00196634, 0.00277623, 0.00295934]),\n",
       "  'param_colsample_bytree': masked_array(data=[0.8, 0.8, 0.8, 0.9, 0.9, 0.9, 1.0, 1.0, 1.0],\n",
       "               mask=[False, False, False, False, False, False, False, False,\n",
       "                     False],\n",
       "         fill_value='?',\n",
       "              dtype=object),\n",
       "  'param_subsample': masked_array(data=[0.8, 0.9, 1.0, 0.8, 0.9, 1.0, 0.8, 0.9, 1.0],\n",
       "               mask=[False, False, False, False, False, False, False, False,\n",
       "                     False],\n",
       "         fill_value='?',\n",
       "              dtype=object),\n",
       "  'params': [{'colsample_bytree': 0.8, 'subsample': 0.8},\n",
       "   {'colsample_bytree': 0.8, 'subsample': 0.9},\n",
       "   {'colsample_bytree': 0.8, 'subsample': 1.0},\n",
       "   {'colsample_bytree': 0.9, 'subsample': 0.8},\n",
       "   {'colsample_bytree': 0.9, 'subsample': 0.9},\n",
       "   {'colsample_bytree': 0.9, 'subsample': 1.0},\n",
       "   {'colsample_bytree': 1.0, 'subsample': 0.8},\n",
       "   {'colsample_bytree': 1.0, 'subsample': 0.9},\n",
       "   {'colsample_bytree': 1.0, 'subsample': 1.0}],\n",
       "  'split0_test_score': array([0.76043201, 0.77319588, 0.76583211, 0.76386843, 0.77270496,\n",
       "         0.76337752, 0.77074129, 0.77957781, 0.77417771]),\n",
       "  'split1_test_score': array([0.74570447, 0.74717722, 0.75895925, 0.7466863 , 0.74275896,\n",
       "         0.74619539, 0.74030437, 0.7574865 , 0.75601375]),\n",
       "  'split2_test_score': array([0.75650466, 0.75503191, 0.75994109, 0.75110457, 0.75650466,\n",
       "         0.75454099, 0.75895925, 0.75650466, 0.76779578]),\n",
       "  'split3_test_score': array([0.75454099, 0.74766814, 0.74864998, 0.74815906, 0.74815906,\n",
       "         0.75110457, 0.74275896, 0.74766814, 0.75306824]),\n",
       "  'split4_test_score': array([0.75442043, 0.76964637, 0.7608055 , 0.75442043, 0.75884086,\n",
       "         0.7632613 , 0.75884086, 0.76669941, 0.77259332]),\n",
       "  'mean_test_score': array([0.75432051, 0.7585439 , 0.75883759, 0.75284776, 0.7557937 ,\n",
       "         0.75569595, 0.75432095, 0.7615873 , 0.76472976]),\n",
       "  'std_test_score': array([0.00482526, 0.01093401, 0.00561811, 0.00611416, 0.01023693,\n",
       "         0.00676633, 0.01132886, 0.0108276 , 0.00863087]),\n",
       "  'rank_test_score': array([8, 4, 3, 9, 5, 6, 7, 2, 1], dtype=int32)},\n",
       " {'colsample_bytree': 1.0, 'subsample': 1.0},\n",
       " 0.7647297587943285)"
      ]
     },
     "execution_count": 135,
     "metadata": {},
     "output_type": "execute_result"
    }
   ],
   "source": [
    "from sklearn.model_selection import GridSearchCV\n",
    "param_test4 = {\n",
    " 'subsample':[i/10.0 for i in range(8,11)],\n",
    " 'colsample_bytree':[i/10.0 for i in range(8,11)]\n",
    "}\n",
    "gsearch4 = GridSearchCV(estimator = XGBClassifier(n_estimators=600, random_state = 0), \n",
    " param_grid = param_test4, scoring='accuracy', n_jobs=-1)\n",
    "gsearch4.fit(X_train,y_train)\n",
    "gsearch4.cv_results_, gsearch4.best_params_, gsearch4.best_score_"
   ]
  },
  {
   "cell_type": "markdown",
   "metadata": {},
   "source": [
    "#### step5: Tuning alpha and lambda"
   ]
  },
  {
   "cell_type": "code",
   "execution_count": 137,
   "metadata": {
    "id": "DInCDccsNuHP",
    "outputId": "1113d832-3579-44df-ef90-3ba4cf1641a4"
   },
   "outputs": [
    {
     "data": {
      "text/plain": [
       "({'mean_fit_time': array([46.63821721, 44.90517516, 42.27410531]),\n",
       "  'std_fit_time': array([0.21612111, 1.96315756, 0.11787395]),\n",
       "  'mean_score_time': array([0.08598685, 0.07766824, 0.06715469]),\n",
       "  'std_score_time': array([0.00470924, 0.0107673 , 0.00707842]),\n",
       "  'param_lambda': masked_array(data=[0.5, 1, 2],\n",
       "               mask=[False, False, False],\n",
       "         fill_value='?',\n",
       "              dtype=object),\n",
       "  'params': [{'lambda': 0.5}, {'lambda': 1}, {'lambda': 2}],\n",
       "  'split0_test_score': array([0.77074129, 0.77417771, 0.76975945]),\n",
       "  'split1_test_score': array([0.74963181, 0.75601375, 0.74570447]),\n",
       "  'split2_test_score': array([0.76681394, 0.76779578, 0.7520864 ]),\n",
       "  'split3_test_score': array([0.75061365, 0.75306824, 0.76092293]),\n",
       "  'split4_test_score': array([0.76866405, 0.77259332, 0.76424361]),\n",
       "  'mean_test_score': array([0.76129295, 0.76472976, 0.75854337]),\n",
       "  'std_test_score': array([0.00920994, 0.00863087, 0.00860797]),\n",
       "  'rank_test_score': array([2, 1, 3], dtype=int32)},\n",
       " {'lambda': 1},\n",
       " 0.7647297587943285)"
      ]
     },
     "execution_count": 137,
     "metadata": {},
     "output_type": "execute_result"
    }
   ],
   "source": [
    "from sklearn.model_selection import GridSearchCV\n",
    "param_test5 = {\n",
    " 'lambda':[0.5, 1, 2]\n",
    "}\n",
    "gsearch5 = GridSearchCV(estimator = XGBClassifier(n_estimators=600, random_state = 0), \n",
    " param_grid = param_test5, scoring='accuracy', n_jobs=-1)\n",
    "gsearch5.fit(X_train,y_train)\n",
    "gsearch5.cv_results_, gsearch5.best_params_, gsearch5.best_score_"
   ]
  },
  {
   "cell_type": "code",
   "execution_count": 140,
   "metadata": {
    "id": "mSrPaZ0ANuHP",
    "outputId": "2466e593-f6d9-4589-e86a-2d59d069eba3"
   },
   "outputs": [
    {
     "data": {
      "text/plain": [
       "({'mean_fit_time': array([52.38409452, 51.97386169, 51.42591805, 36.81903501, 25.12800007]),\n",
       "  'std_fit_time': array([0.12789725, 0.72056177, 0.26080384, 2.21716805, 5.1298926 ]),\n",
       "  'mean_score_time': array([0.10075006, 0.10997739, 0.09641333, 0.05772157, 0.03607459]),\n",
       "  'std_score_time': array([0.01033091, 0.01848049, 0.0072221 , 0.00988983, 0.00576771]),\n",
       "  'param_alpha': masked_array(data=[0, 0.1, 0.5, 1, 2],\n",
       "               mask=[False, False, False, False, False],\n",
       "         fill_value='?',\n",
       "              dtype=object),\n",
       "  'params': [{'alpha': 0},\n",
       "   {'alpha': 0.1},\n",
       "   {'alpha': 0.5},\n",
       "   {'alpha': 1},\n",
       "   {'alpha': 2}],\n",
       "  'split0_test_score': array([0.77417771, 0.77074129, 0.77270496, 0.77515955, 0.77466863]),\n",
       "  'split1_test_score': array([0.75601375, 0.75159548, 0.76043201, 0.75797742, 0.75355916]),\n",
       "  'split2_test_score': array([0.76779578, 0.75797742, 0.7520864 , 0.76583211, 0.76190476]),\n",
       "  'split3_test_score': array([0.75306824, 0.75110457, 0.75503191, 0.75503191, 0.75306824]),\n",
       "  'split4_test_score': array([0.77259332, 0.76522593, 0.75982318, 0.7632613 , 0.75736739]),\n",
       "  'mean_test_score': array([0.76472976, 0.75932894, 0.76001569, 0.76345246, 0.76011363]),\n",
       "  'std_test_score': array([0.00863087, 0.00767189, 0.00705606, 0.0069805 , 0.00793973]),\n",
       "  'rank_test_score': array([1, 5, 4, 2, 3], dtype=int32)},\n",
       " {'alpha': 0},\n",
       " 0.7647297587943285)"
      ]
     },
     "execution_count": 140,
     "metadata": {},
     "output_type": "execute_result"
    }
   ],
   "source": [
    "from sklearn.model_selection import GridSearchCV\n",
    "param_test5 = {\n",
    " 'alpha':[0, 0.1, 0.5, 1, 2]\n",
    "}\n",
    "gsearch5 = GridSearchCV(estimator = XGBClassifier(n_estimators=600, random_state = 0), \n",
    " param_grid = param_test5, scoring='accuracy', n_jobs=-1)\n",
    "gsearch5.fit(X_train,y_train)\n",
    "gsearch5.cv_results_, gsearch5.best_params_, gsearch5.best_score_"
   ]
  },
  {
   "cell_type": "markdown",
   "metadata": {
    "id": "BnRbELTYNuHQ"
   },
   "source": [
    "### Final Model"
   ]
  },
  {
   "cell_type": "code",
   "execution_count": 185,
   "metadata": {
    "id": "hP-QHGgrNuHQ",
    "outputId": "75217c2a-5fdb-41bf-f3e6-b25412f186b5"
   },
   "outputs": [
    {
     "name": "stdout",
     "output_type": "stream",
     "text": [
      "0.765 accuracy with a standard deviation of 0.009\n"
     ]
    }
   ],
   "source": [
    "# Training the XGboost on the Training set\n",
    "from xgboost import XGBClassifier\n",
    "classifier = XGBClassifier(n_estimators = 600, random_state = 0)\n",
    "classifier.fit(X_train, y_train)\n",
    "\n",
    "# Predict the Test set results\n",
    "y_pred = classifier.predict(X_test)\n",
    "\n",
    "# evaluate model\n",
    "from sklearn.model_selection import cross_val_score\n",
    "scores = cross_val_score(classifier, X_train, y_train, scoring='accuracy', cv=5)\n",
    "print(\"%0.3f accuracy with a standard deviation of %0.3f\" % (scores.mean(), scores.std()))"
   ]
  },
  {
   "cell_type": "markdown",
   "metadata": {
    "id": "xiApWDuENuHR"
   },
   "source": [
    "### Submission"
   ]
  },
  {
   "cell_type": "code",
   "execution_count": 142,
   "metadata": {
    "id": "N9ftV3tgNuHR"
   },
   "outputs": [],
   "source": [
    "Id = [i for i in range(1,2501)]\n",
    "Id = pd.Series(Id)\n",
    "Decision = pd.Series(y_pred)\n",
    "output = pd.DataFrame({\"id\": Id,\n",
    "                        \"Decision\": Decision})\n",
    "output.to_csv('submission.csv', index=False)"
   ]
  }
 ],
 "metadata": {
  "colab": {
   "name": "coupon_old-Copy1.ipynb",
   "provenance": []
  },
  "kernelspec": {
   "display_name": "Python 3",
   "language": "python",
   "name": "python3"
  }
 },
 "nbformat": 4,
 "nbformat_minor": 1
}
